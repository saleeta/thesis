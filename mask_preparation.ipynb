{
 "cells": [
  {
   "cell_type": "code",
   "execution_count": 1,
   "metadata": {},
   "outputs": [
    {
     "name": "stderr",
     "output_type": "stream",
     "text": [
      "/tmp/ipykernel_1648169/4057453759.py:1: DeprecationWarning: Importing display from IPython.core.display is deprecated since IPython 7.14, please import from IPython display\n",
      "  from IPython.core.display import display, HTML\n"
     ]
    },
    {
     "data": {
      "text/html": [
       "<style>.container { width:95% !important; }</style>"
      ],
      "text/plain": [
       "<IPython.core.display.HTML object>"
      ]
     },
     "metadata": {},
     "output_type": "display_data"
    }
   ],
   "source": [
    "from IPython.core.display import display, HTML\n",
    "\n",
    "display(HTML(\"<style>.container { width:95% !important; }</style>\"))"
   ]
  },
  {
   "cell_type": "code",
   "execution_count": 2,
   "metadata": {},
   "outputs": [],
   "source": [
    "import sys\n",
    "import os\n",
    "import struct\n",
    "import time\n",
    "import numpy as np\n",
    "import h5py\n",
    "from scipy.stats import pearsonr\n",
    "from scipy.io import loadmat\n",
    "from tqdm import tqdm\n",
    "import pickle\n",
    "import math\n",
    "import matplotlib.pyplot as plt\n",
    "import seaborn as sns\n",
    "%matplotlib inline"
   ]
  },
  {
   "cell_type": "code",
   "execution_count": 3,
   "metadata": {},
   "outputs": [
    {
     "name": "stdout",
     "output_type": "stream",
     "text": [
      "Current dir: /home/pi09pexa/Downloads/manual/\n"
     ]
    }
   ],
   "source": [
    "root_dir = os.getcwd() + '/'\n",
    "output_dir = root_dir + \"output/\"\n",
    "\n",
    "if not os.path.exists(output_dir):\n",
    "    os.makedirs(output_dir)\n",
    "\n",
    "print (\"Current dir: %s\" % root_dir)"
   ]
  },
  {
   "cell_type": "markdown",
   "metadata": {},
   "source": [
    "## Load a dataset"
   ]
  },
  {
   "cell_type": "code",
   "execution_count": 4,
   "metadata": {},
   "outputs": [],
   "source": [
    "nsd_root = \"/home/pi09pexa/Downloads/data/\"\n",
    "stim_root = nsd_root + \"nsddata_stimuli/stimuli/nsd/\"\n",
    "beta_root = nsd_root + \"nsddata_betas/ppdata/\"\n",
    "mask_root = nsd_root + \"nsddata/ppdata/\""
   ]
  },
  {
   "cell_type": "code",
   "execution_count": 5,
   "metadata": {},
   "outputs": [
    {
     "ename": "NameError",
     "evalue": "name 'subject_data' is not defined",
     "output_type": "error",
     "traceback": [
      "\u001b[0;31m---------------------------------------------------------------------------\u001b[0m",
      "\u001b[0;31mNameError\u001b[0m                                 Traceback (most recent call last)",
      "Cell \u001b[0;32mIn[5], line 3\u001b[0m\n\u001b[1;32m      1\u001b[0m \u001b[38;5;28;01mfrom\u001b[39;00m \u001b[38;5;21;01mnilearn\u001b[39;00m\u001b[38;5;21;01m.\u001b[39;00m\u001b[38;5;21;01mplotting\u001b[39;00m \u001b[38;5;28;01mimport\u001b[39;00m plot_anat, plot_img, plot_stat_map\n\u001b[0;32m----> 3\u001b[0m plot_img(\u001b[43msubject_data\u001b[49m\u001b[38;5;241m.\u001b[39mfunc[\u001b[38;5;241m0\u001b[39m], colorbar\u001b[38;5;241m=\u001b[39m\u001b[38;5;28;01mTrue\u001b[39;00m, cbar_tick_format\u001b[38;5;241m=\u001b[39m\u001b[38;5;124m\"\u001b[39m\u001b[38;5;132;01m%i\u001b[39;00m\u001b[38;5;124m\"\u001b[39m)\n\u001b[1;32m      4\u001b[0m plot_anat(subject_data\u001b[38;5;241m.\u001b[39manat, colorbar\u001b[38;5;241m=\u001b[39m\u001b[38;5;28;01mTrue\u001b[39;00m, cbar_tick_format\u001b[38;5;241m=\u001b[39m\u001b[38;5;124m\"\u001b[39m\u001b[38;5;132;01m%i\u001b[39;00m\u001b[38;5;124m\"\u001b[39m)\n",
      "\u001b[0;31mNameError\u001b[0m: name 'subject_data' is not defined"
     ]
    }
   ],
   "source": [
    "from nilearn.plotting import plot_anat, plot_img, plot_stat_map\n",
    "\n",
    "plot_img(subject_data.func[0], colorbar=True, cbar_tick_format=\"%i\")\n",
    "plot_anat(subject_data.anat, colorbar=True, cbar_tick_format=\"%i\")"
   ]
  },
  {
   "cell_type": "code",
   "execution_count": null,
   "metadata": {},
   "outputs": [],
   "source": []
  },
  {
   "cell_type": "code",
   "execution_count": null,
   "metadata": {},
   "outputs": [],
   "source": [
    "from nilearn import datasets\n",
    "\n",
    "# By default 2nd subject will be fetched\n",
    "\n",
    "# 'func' is a list of filenames: one for each subject\n",
    "fmri_filename = voxel_mask_full.func[0]\n",
    "\n",
    "# print basic information on the dataset\n",
    "print(f\"First subject functional nifti images (4D) are at: {fmri_filename}\")"
   ]
  },
  {
   "cell_type": "code",
   "execution_count": null,
   "metadata": {},
   "outputs": [],
   "source": []
  },
  {
   "cell_type": "code",
   "execution_count": 8,
   "metadata": {},
   "outputs": [],
   "source": [
    "from src.file_utility import load_mask_from_nii, view_data\n",
    "\n",
    "def iterate_roi(group, voxelroi, roimap, group_name=None):\n",
    "    for k,g in enumerate(group):\n",
    "        g_name = ('' if group_name is None else group_name[k])\n",
    "        mask = np.zeros(shape=voxelroi.shape, dtype=bool)\n",
    "        for i,roi in enumerate(g):\n",
    "            if group_name is None:\n",
    "                g_name += roimap[roi] + ('-' if i+1<len(g) else '')\n",
    "            mask = np.logical_or(mask, voxelroi==roi)\n",
    "        yield mask, g_name"
   ]
  },
  {
   "cell_type": "markdown",
   "metadata": {},
   "source": [
    "# Make early visual cortex masks"
   ]
  },
  {
   "cell_type": "code",
   "execution_count": 33,
   "metadata": {},
   "outputs": [],
   "source": [
    "#subjects = [1, 2, 3, 4, 5, 6, 7, 8]\n",
    "subjects = [1]\n",
    "from src.file_utility import load_mask_from_nii, view_data\n",
    "from src.roi import roi_map, iterate_roi\n",
    "roi_map = {1: 'V1v', 2: 'V1d', 3: 'V2v', 4: 'V2d', 5: 'V3v', 6: 'V3d', 7: 'hV4', 8: 'VO1', 9: 'VO2', \\\n",
    "           10: 'PHC1', 11: 'PHC2', 12: 'MST', 13: 'hMT', 14: 'LO2', 15: 'LO1', 16: 'V3b', 17: 'V3a', \\\n",
    "           18: 'IPS0', 19: 'IPS1', 20: 'IPS2', 21: 'IPS3', 22: 'IPS4', 23: 'IPS5', 24: 'SPL1', 25: 'FEF',\\\n",
    "           0: 'other'}"
   ]
  },
  {
   "cell_type": "code",
   "execution_count": 43,
   "metadata": {},
   "outputs": [
    {
     "data": {
      "text/plain": [
       "{1: memmap([False, False, False, ..., False, False, False])}"
      ]
     },
     "execution_count": 43,
     "metadata": {},
     "output_type": "execute_result"
    }
   ],
   "source": [
    "#Load HCP\n",
    "voxel_HCP_full     = load_mask_from_nii(mask_root + \"subj%02d/func1pt8mm/roi/HCP_MMP1.nii.gz\"%(s))\n",
    "\n",
    "# Initialize the dictionary\n",
    "roi_map = {\n",
    "    0: \"other\",\n",
    "    1: \"V1\",\n",
    "    2: \"MST\",\n",
    "    3: \"V6\",\n",
    "    4: \"V2\",\n",
    "    5: \"V3\",\n",
    "    6: \"V4\",\n",
    "    7: \"V8\",\n",
    "    8: \"4\",\n",
    "    9: \"3b\",\n",
    "    10: \"FEF\",\n",
    "    11: \"PEF\",\n",
    "    12: \"55b\",\n",
    "    13: \"V3A\",\n",
    "    14: \"RSC\",\n",
    "    15: \"POS2\",\n",
    "    16: \"V7\",\n",
    "    17: \"IPS1\",\n",
    "    18: \"FFC\",\n",
    "    19: \"V3B\",\n",
    "    20: \"LO1\",\n",
    "    21: \"LO2\",\n",
    "    22: \"PIT\",\n",
    "    23: \"MT\",\n",
    "    24: \"A1\",\n",
    "    25: \"PSL\",\n",
    "    26: \"SFL\",\n",
    "    27: \"PCV\",\n",
    "    28: \"STV\",\n",
    "    29: \"7Pm\",\n",
    "    30: \"7m\",\n",
    "    31: \"POS1\",\n",
    "    32: \"23d\",\n",
    "    33: \"v23ab\",\n",
    "    34: \"d23ab\",\n",
    "    35: \"31pv\",\n",
    "    36: \"5m\",\n",
    "    37: \"5mv\",\n",
    "    38: \"23c\",\n",
    "    39: \"5L\",\n",
    "    40: \"24dd\",\n",
    "    41: \"24dv\",\n",
    "    42: \"7AL\",\n",
    "    43: \"SCEF\",\n",
    "    44: \"6ma\",\n",
    "    45: \"7Am\",\n",
    "    46: \"7Pl\",\n",
    "    47: \"7PC\",\n",
    "    48: \"LIPv\",\n",
    "    49: \"VIP\",\n",
    "    50: \"MIP\",\n",
    "    51: \"1\",\n",
    "    52: \"2\",\n",
    "    53: \"3a\",\n",
    "    54: \"6d\",\n",
    "    55: \"6mp\",\n",
    "    56: \"6v\",\n",
    "    57: \"p24pr\",\n",
    "    58: \"33pr\",\n",
    "    59: \"a24pr\",\n",
    "    60: \"p32pr\",\n",
    "    61: \"a24\",\n",
    "    62: \"d32\",\n",
    "    63: \"8BM\",\n",
    "    64: \"p32\",\n",
    "    65: \"10r\",\n",
    "    66: \"47m\",\n",
    "    67: \"8Av\",\n",
    "    68: \"8Ad\",\n",
    "    69: \"9m\",\n",
    "    70: \"8BL\",\n",
    "    71: \"9p\",\n",
    "    72: \"10d\",\n",
    "    73: \"8C\",\n",
    "    74: \"44\",\n",
    "    75: \"45\",\n",
    "    76: \"47l\",\n",
    "    77: \"a47r\",\n",
    "    78: \"6r\",\n",
    "    79: \"IFJa\",\n",
    "    80: \"IFJp\",\n",
    "    81: \"IFSp\",\n",
    "    82: \"IFSa\",\n",
    "    83: \"p9-46v\",\n",
    "    84: \"46\",\n",
    "    85: \"a9-46v\",\n",
    "    86: \"9-46d\",\n",
    "    87: \"9a\",\n",
    "    88: \"10v\",\n",
    "    89: \"a10p\",\n",
    "    90: \"10pp\",\n",
    "    91: \"11l\",\n",
    "    92: \"13l\",\n",
    "    93: \"OFC\",\n",
    "    94: \"47s\",\n",
    "    95: \"LIPd\",\n",
    "    96: \"6a\",\n",
    "    97: \"i6-8\",\n",
    "    98: \"s6-8\",\n",
    "    99: \"43\",\n",
    "    100: \"OP4\",\n",
    "    101: \"OP1\",\n",
    "    102: \"OP2-3\",\n",
    "    103: \"52\",\n",
    "    104: \"RI\",\n",
    "    105: \"PFcm\",\n",
    "    106: \"PoI2\",\n",
    "    107: \"TA2\",\n",
    "    108: \"FOP4\",\n",
    "    109: \"MI\",\n",
    "    110: \"Pir\",\n",
    "    111: \"AVI\",\n",
    "    112: \"AAIC\",\n",
    "    113: \"FOP1\",\n",
    "    114: \"FOP3\",\n",
    "    115: \"FOP2\",\n",
    "    116: \"PFt\",\n",
    "    117: \"AIP\",\n",
    "    118: \"EC\",\n",
    "    119: \"PreS\",\n",
    "    120: \"H\",\n",
    "    121: \"ProS\",\n",
    "    122: \"PeEc\",\n",
    "    123: \"STGa\",\n",
    "    124: \"PBelt\",\n",
    "    125: \"A5\",\n",
    "    126: \"PHA1\",\n",
    "    127: \"PHA3\",\n",
    "    128: \"STSda\",\n",
    "    129: \"STSdp\",\n",
    "    130: \"STSvp\",\n",
    "    131: \"TGd\",\n",
    "    132: \"TE1a\",\n",
    "    133: \"TE1p\",\n",
    "    134: \"TE2a\",\n",
    "    135: \"TF\",\n",
    "    136: \"TE2p\",\n",
    "    137: \"PHT\",\n",
    "    138: \"PH\",\n",
    "    139: \"TPOJ1\",\n",
    "    140: \"TPOJ2\",\n",
    "    141: \"TPOJ3\",\n",
    "    142: \"DVT\",\n",
    "    143: \"PGp\",\n",
    "    144: \"IP2\",\n",
    "    145: \"IP1\",\n",
    "    146: \"IP0\",\n",
    "    147: \"PFop\",\n",
    "    148: \"PF\",\n",
    "    149: \"PFm\",\n",
    "    150: \"PGi\",\n",
    "    151: \"PGs\",\n",
    "    152: \"V6A\",\n",
    "    153: \"VMV1\",\n",
    "    154: \"VMV3\",\n",
    "    155: \"PHA2\",\n",
    "    156: \"V4t\",\n",
    "    157: \"FST\",\n",
    "    158: \"V3CD\",\n",
    "    159: \"LO3\",\n",
    "    160: \"VMV2\",\n",
    "    161: \"31pd\",\n",
    "    162: \"31a\",\n",
    "    163: \"VVC\",\n",
    "    164: \"25\",\n",
    "    165: \"s32\",\n",
    "    166: \"pOFC\",\n",
    "    167: \"PoI1\",\n",
    "    168: \"Ig\",\n",
    "    169: \"FOP5\",\n",
    "    170: \"p10p\",\n",
    "    171: \"p47r\",\n",
    "    172: \"TGv\",\n",
    "    173: \"MBelt\",\n",
    "    174: \"LBelt\",\n",
    "    175: \"A4\",\n",
    "    176: \"STSva\",\n",
    "    177: \"TE1m\",\n",
    "    178: \"PI\",\n",
    "    179: \"a32pr\",\n",
    "    180: \"p24\"\n",
    "}\n",
    "# dorsal hcp Regions: V3A,V3B,V6,V6A,V7,IPS1\n",
    "dorsal=[13,19,3,152,16,17]\n",
    "# ventral hcp Regions: V8,Ventral Visual Complex (VVC), PIT Complex, Fusiform Face Complex (FFC), Ventro-Medial Visual Areas (VMV1, VMV2, VMV3)\n",
    "ventral=[7,163,22,18,153,154,160]\n",
    "\n"
   ]
  },
  {
   "cell_type": "code",
   "execution_count": 51,
   "metadata": {},
   "outputs": [
    {
     "name": "stdout",
     "output_type": "stream",
     "text": [
      "--------  subject 1  -------\n",
      "(81, 104, 83)\n",
      "full mask length = 699192\n",
      "selection length = 4657\n",
      "2761 \t: Ventral\n",
      "1896 \t: Dorsal\n",
      "1187 \t: V3\n",
      "687 \t: hV4\n",
      "0 \t: V3ab\n",
      "0 \t: LO\n",
      "0 \t: IPS\n",
      "0 \t: VO\n",
      "0 \t: PHC\n",
      "0 \t: MT\n",
      "0 \t: MST\n",
      "0 \t: other\n"
     ]
    }
   ],
   "source": [
    "group_names = ['Ventral', 'Dorsal', 'V3', 'hV4', 'V3ab', 'LO', 'IPS', 'VO', 'PHC', 'MT', 'MST', 'other']\n",
    "group = [[1,3,5,7],[2,4,6],[5,6], [7], [16, 17], [14, 15], [18,19,20,21,22,23], [8, 9], [10,11], [13], [12], [24,25,0]]\n",
    "ventral_mask=None\n",
    "dorsal_mask=None\n",
    "brain_nii_shape, voxel_mask, voxel_idx, voxel_roi, voxel_ncsnr = {}, {}, {}, {}, {}\n",
    "trn_subjects=[1]\n",
    "for k,s in enumerate(trn_subjects):\n",
    "    print ('--------  subject %d  -------' % s)\n",
    "    voxel_mask_full = load_mask_from_nii(mask_root + \"subj%02d/func1pt8mm/brainmask_vcventral_1.0.nii\"%s)\n",
    "    #voxel_mask_full = load_mask_from_nii(mask_root + \"subj%02d/func1pt8mm/brainmask_nsdgeneral_1.0.nii\"%s)\n",
    "    voxel_roi_full  = load_mask_from_nii(mask_root + \"subj%02d/func1pt8mm/roi/prf-visualrois.nii.gz\"%s)\n",
    "    voxel_kast_full = load_mask_from_nii(mask_root + \"subj%02d/func1pt8mm/roi/Kastner2015.nii.gz\"%(s))\n",
    "    general_mask_full  = load_mask_from_nii(mask_root + \"subj%02d/func1pt8mm/roi/nsdgeneral.nii.gz\"%(s))\n",
    "    #ncsnr_full = load_mask_from_nii(beta_root + \"subj%02d/func1pt8mm/betas_fithrf_GLMdenoise_RR/ncsnr.nii.gz\"%s)\n",
    "    ###\n",
    "    brain_nii_shape[s] = voxel_roi_full.shape\n",
    "    print (brain_nii_shape[s])\n",
    "    ###\n",
    "    voxel_roi_mask_full = (voxel_roi_full>0).flatten().astype(bool)\n",
    "    voxel_joined_roi_full = np.copy(voxel_kast_full.flatten())  # load kastner rois\n",
    "    voxel_joined_roi_full[voxel_roi_mask_full] = voxel_roi_full.flatten()[voxel_roi_mask_full] # overwrite with prf rois\n",
    "    ###\n",
    "    voxel_mask[s]  = np.nan_to_num(voxel_mask_full).flatten().astype(bool)\n",
    "    voxel_idx[s]   = np.arange(len(voxel_mask[s]))[voxel_mask[s]]\n",
    "    voxel_roi[s]   = voxel_joined_roi_full[voxel_mask[s]]\n",
    "    #voxel_ncsnr[s] = ncsnr_full.flatten()[voxel_mask[s]]\n",
    "        \n",
    "    print ('full mask length = %d'%len(voxel_mask[s]))\n",
    "    print ('selection length = %d'%np.sum(voxel_mask[s]))\n",
    "    \n",
    "    for roi_mask, roi_name in iterate_roi(group, voxel_roi[s], roi_map, group_name=group_names):\n",
    "        print (\"%d \\t: %s\" % (np.sum(roi_mask), roi_name))\n",
    "        if roi_name==\"Ventral\":\n",
    "            ventral_mask=roi_mask\n",
    "        if roi_name==\"Dorsal\":\n",
    "            dorsal_mask=roi_mask\n"
   ]
  },
  {
   "cell_type": "code",
   "execution_count": 53,
   "metadata": {},
   "outputs": [
    {
     "name": "stdout",
     "output_type": "stream",
     "text": [
      "full mask length = 4657\n",
      "selection length = 2761\n"
     ]
    }
   ],
   "source": [
    "print ('full mask length = %d'%len(ventral_mask))\n",
    "print ('selection length = %d'%np.sum(ventral_mask))"
   ]
  },
  {
   "cell_type": "code",
   "execution_count": 56,
   "metadata": {},
   "outputs": [
    {
     "name": "stdout",
     "output_type": "stream",
     "text": [
      "--------  subject 1  -------\n",
      "(4657,)\n",
      "full mask length = 4657\n",
      "selection length = 2761\n",
      "2761 \t: Ventral\n",
      "0 \t: Dorsal\n",
      "0 \t: V3\n",
      "0 \t: hV4\n",
      "0 \t: V3ab\n",
      "0 \t: LO\n",
      "0 \t: IPS\n",
      "0 \t: VO\n",
      "0 \t: PHC\n",
      "0 \t: MT\n",
      "0 \t: MST\n",
      "0 \t: other\n"
     ]
    }
   ],
   "source": [
    "group_names = ['Ventral', 'Dorsal', 'V3', 'hV4', 'V3ab', 'LO', 'IPS', 'VO', 'PHC', 'MT', 'MST', 'other']\n",
    "group = [[1,3,5,7],[2,4,6],[5,6], [7], [16, 17], [14, 15], [18,19,20,21,22,23], [8, 9], [10,11], [13], [12], [24,25,0]]\n",
    "\n",
    "brain_nii_shape, voxel_mask, voxel_idx, voxel_roi, voxel_ncsnr = {}, {}, {}, {}, {}\n",
    "trn_subjects=[1]\n",
    "for k,s in enumerate(trn_subjects):\n",
    "    print ('--------  subject %d  -------' % s)\n",
    "    voxel_mask_full = load_mask_from_nii(mask_root + \"subj%02d/func1pt8mm/brainmask_vcventral_1.0.nii\"%s)\n",
    "    #voxel_mask_full = load_mask_from_nii(mask_root + \"subj%02d/func1pt8mm/brainmask_nsdgeneral_1.0.nii\"%s)\n",
    "    voxel_roi_full  = load_mask_from_nii(mask_root + \"subj%02d/func1pt8mm/roi/prf-visualrois.nii.gz\"%s)\n",
    "    voxel_kast_full = load_mask_from_nii(mask_root + \"subj%02d/func1pt8mm/roi/Kastner2015.nii.gz\"%(s))\n",
    "    general_mask_full  = load_mask_from_nii(mask_root + \"subj%02d/func1pt8mm/roi/nsdgeneral.nii.gz\"%(s))\n",
    "    #ncsnr_full = load_mask_from_nii(beta_root + \"subj%02d/func1pt8mm/betas_fithrf_GLMdenoise_RR/ncsnr.nii.gz\"%s)\n",
    "    ###\n",
    "    voxel_roi_full=ventral_mask\n",
    "    brain_nii_shape[s] = voxel_roi_full.shape\n",
    "    print (brain_nii_shape[s])\n",
    "    ###\n",
    "    voxel_roi_mask_full = (voxel_roi_full>0).flatten().astype(bool)\n",
    "    voxel_joined_roi_full = np.copy(ventral_mask.flatten())  # load kastner rois\n",
    "    voxel_joined_roi_full[voxel_roi_mask_full] = voxel_roi_full.flatten()[voxel_roi_mask_full] # overwrite with prf rois\n",
    "    ###\n",
    "    voxel_mask[s]  = np.nan_to_num(ventral_mask).flatten().astype(bool)\n",
    "    voxel_idx[s]   = np.arange(len(voxel_mask[s]))[voxel_mask[s]]\n",
    "    voxel_roi[s]   = voxel_joined_roi_full[voxel_mask[s]]\n",
    "    #voxel_ncsnr[s] = ncsnr_full.flatten()[voxel_mask[s]]\n",
    "        \n",
    "    print ('full mask length = %d'%len(voxel_mask[s]))\n",
    "    print ('selection length = %d'%np.sum(voxel_mask[s]))\n",
    "    \n",
    "    for roi_mask, roi_name in iterate_roi(group, voxel_roi[s], roi_map, group_name=group_names):\n",
    "        print (\"%d \\t: %s\" % (np.sum(roi_mask), roi_name))\n",
    "      \n"
   ]
  },
  {
   "cell_type": "code",
   "execution_count": 35,
   "metadata": {},
   "outputs": [
    {
     "name": "stdout",
     "output_type": "stream",
     "text": [
      "[ True  True  True ...  True  True  True]\n",
      "[ True  True  True ...  True  True  True]\n"
     ]
    }
   ],
   "source": [
    "print(ventral_mask)\n",
    "ventral_mask  = ((ventral_mask)>0).flatten().astype(bool)\n",
    "print(ventral_mask)"
   ]
  },
  {
   "cell_type": "code",
   "execution_count": 44,
   "metadata": {},
   "outputs": [
    {
     "ename": "IndexError",
     "evalue": "boolean index did not match indexed array along axis 0; size of axis is 699192 but size of corresponding boolean axis is 4657",
     "output_type": "error",
     "traceback": [
      "\u001b[0;31m---------------------------------------------------------------------------\u001b[0m",
      "\u001b[0;31mIndexError\u001b[0m                                Traceback (most recent call last)",
      "Cell \u001b[0;32mIn[44], line 4\u001b[0m\n\u001b[1;32m      2\u001b[0m voxel_mask[s]  \u001b[38;5;241m=\u001b[39m ventral_mask\n\u001b[1;32m      3\u001b[0m voxel_idx[s]   \u001b[38;5;241m=\u001b[39m np\u001b[38;5;241m.\u001b[39marange(\u001b[38;5;28mlen\u001b[39m(voxel_mask[s]))[voxel_mask[s]]\n\u001b[0;32m----> 4\u001b[0m voxel_roi[s]   \u001b[38;5;241m=\u001b[39m \u001b[43mvoxel_joined_roi_full\u001b[49m\u001b[43m[\u001b[49m\u001b[43mvoxel_mask\u001b[49m\u001b[43m[\u001b[49m\u001b[43ms\u001b[49m\u001b[43m]\u001b[49m\u001b[43m]\u001b[49m\n\u001b[1;32m      5\u001b[0m \u001b[38;5;66;03m#voxel_ncsnr[s] = ncsnr_full.flatten()[voxel_mask[s]]\u001b[39;00m\n\u001b[1;32m      7\u001b[0m \u001b[38;5;28mprint\u001b[39m (\u001b[38;5;124m'\u001b[39m\u001b[38;5;124mfull mask length = \u001b[39m\u001b[38;5;132;01m%d\u001b[39;00m\u001b[38;5;124m'\u001b[39m\u001b[38;5;241m%\u001b[39m\u001b[38;5;28mlen\u001b[39m(voxel_mask[s]))\n",
      "\u001b[0;31mIndexError\u001b[0m: boolean index did not match indexed array along axis 0; size of axis is 699192 but size of corresponding boolean axis is 4657"
     ]
    }
   ],
   "source": [
    "s=0\n",
    "voxel_mask[s]  = ventral_mask\n",
    "voxel_idx[s]   = np.arange(len(voxel_mask[s]))[voxel_mask[s]]\n",
    "voxel_roi[s]   = voxel_joined_roi_full[voxel_mask[s]]\n",
    "#voxel_ncsnr[s] = ncsnr_full.flatten()[voxel_mask[s]]\n",
    "    \n",
    "print ('full mask length = %d'%len(voxel_mask[s]))\n",
    "print ('selection length = %d'%np.sum(voxel_mask[s]))"
   ]
  },
  {
   "cell_type": "code",
   "execution_count": 57,
   "metadata": {},
   "outputs": [
    {
     "name": "stdout",
     "output_type": "stream",
     "text": [
      "0 1\n"
     ]
    },
    {
     "ename": "IndexError",
     "evalue": "too many indices for array: array is 1-dimensional, but 3 were indexed",
     "output_type": "error",
     "traceback": [
      "\u001b[0;31m---------------------------------------------------------------------------\u001b[0m",
      "\u001b[0;31mIndexError\u001b[0m                                Traceback (most recent call last)",
      "Cell \u001b[0;32mIn[57], line 13\u001b[0m\n\u001b[1;32m     10\u001b[0m \u001b[38;5;66;03m#ncsnr_volume = view_data(brain_nii_shape[s], voxel_idx[s], voxel_ncsnr[s], save_to=subject_dir+\"subj%02d_ncsnr\"%s) \u001b[39;00m\n\u001b[1;32m     11\u001b[0m \u001b[38;5;66;03m##\u001b[39;00m\n\u001b[1;32m     12\u001b[0m plt\u001b[38;5;241m.\u001b[39msubplot(\u001b[38;5;28mlen\u001b[39m(trn_subjects),\u001b[38;5;241m3\u001b[39m,\u001b[38;5;241m3\u001b[39m\u001b[38;5;241m*\u001b[39mk\u001b[38;5;241m+\u001b[39m\u001b[38;5;241m1\u001b[39m)\n\u001b[0;32m---> 13\u001b[0m plt\u001b[38;5;241m.\u001b[39mimshow(\u001b[43mvolume_brain_mask\u001b[49m\u001b[43m[\u001b[49m\u001b[43m:\u001b[49m\u001b[43m,\u001b[49m\u001b[43m:\u001b[49m\u001b[43m,\u001b[49m\u001b[43mslice_idx\u001b[49m\u001b[43m]\u001b[49m, cmap\u001b[38;5;241m=\u001b[39m\u001b[38;5;124m'\u001b[39m\u001b[38;5;124mgray\u001b[39m\u001b[38;5;124m'\u001b[39m, interpolation\u001b[38;5;241m=\u001b[39m\u001b[38;5;124m'\u001b[39m\u001b[38;5;124mNone\u001b[39m\u001b[38;5;124m'\u001b[39m)\n\u001b[1;32m     14\u001b[0m plt\u001b[38;5;241m.\u001b[39mtitle(\u001b[38;5;124m'\u001b[39m\u001b[38;5;124mMask\u001b[39m\u001b[38;5;124m'\u001b[39m)\n\u001b[1;32m     15\u001b[0m plt\u001b[38;5;241m.\u001b[39mcolorbar()\n",
      "\u001b[0;31mIndexError\u001b[0m: too many indices for array: array is 1-dimensional, but 3 were indexed"
     ]
    },
    {
     "data": {
      "image/png": "[encoded data removed]",
      "text/plain": [
       "<Figure size 1200x400 with 1 Axes>"
      ]
     },
     "metadata": {},
     "output_type": "display_data"
    }
   ],
   "source": [
    "slice_idx = 50\n",
    "plt.figure(figsize=(12, 4*len(trn_subjects)))\n",
    "for k,s in enumerate(trn_subjects): \n",
    "    subject_dir = output_dir + 'S%02d/'%s\n",
    "    if not os.path.exists(subject_dir):\n",
    "        os.makedirs(subject_dir)\n",
    "    print(k,s)\n",
    "    volume_brain_mask = view_data(brain_nii_shape[s], voxel_idx[s], np.ones_like(voxel_idx[s]), save_to=subject_dir+\"subj%02d_mask\"%s)\n",
    "    volume_brain_roi  = view_data(brain_nii_shape[s], voxel_idx[s], voxel_roi[s], save_to=subject_dir+\"subj%02d_roi\"%s)\n",
    "    #ncsnr_volume = view_data(brain_nii_shape[s], voxel_idx[s], voxel_ncsnr[s], save_to=subject_dir+\"subj%02d_ncsnr\"%s) \n",
    "    ##\n",
    "    plt.subplot(len(trn_subjects),3,3*k+1)\n",
    "    plt.imshow(volume_brain_mask[:,:,slice_idx], cmap='gray', interpolation='None')\n",
    "    plt.title('Mask')\n",
    "    plt.colorbar()\n",
    "    _=plt.ylabel('Subject %d'%s)\n",
    "    _=plt.gca().set_xticklabels([])\n",
    "    _=plt.gca().set_yticklabels([])\n",
    "    plt.subplot(len(trn_subjects),3,3*k+2)\n",
    "    plt.imshow(volume_brain_roi[:,:,slice_idx], cmap='jet', interpolation='None')\n",
    "    plt.clim([0,7])\n",
    "    plt.title('ROI')\n",
    "    plt.colorbar()\n",
    "    _=plt.gca().set_xticklabels([])\n",
    "    _=plt.gca().set_yticklabels([])\n",
    "    #plt.subplot(len(trn_subjects),3,3*k+3)\n",
    "    #plt.imshow(ncsnr_volume[:,:,slice_idx], cmap='hot', interpolation='None')\n",
    "    #plt.title('SNR')\n",
    "    #plt.colorbar()\n",
    "    #_=plt.gca().set_xticklabels([])\n",
    "    #_=plt.gca().set_yticklabels([])"
   ]
  },
  {
   "cell_type": "code",
   "execution_count": 20,
   "metadata": {},
   "outputs": [
    {
     "data": {
      "text/plain": [
       "1"
      ]
     },
     "execution_count": 20,
     "metadata": {},
     "output_type": "execute_result"
    }
   ],
   "source": [
    "len(voxel_idx)\n"
   ]
  },
  {
   "cell_type": "code",
   "execution_count": 117,
   "metadata": {},
   "outputs": [
    {
     "name": "stdout",
     "output_type": "stream",
     "text": [
      "[(array([[[False, False, False, ..., False, False, False],\n",
      "        [False, False, False, ..., False, False, False],\n",
      "        [False, False, False, ..., False, False, False],\n",
      "        ...,\n",
      "        [False, False, False, ..., False, False, False],\n",
      "        [False, False, False, ..., False, False, False],\n",
      "        [False, False, False, ..., False, False, False]],\n",
      "\n",
      "       [[False, False, False, ..., False, False, False],\n",
      "        [False, False, False, ..., False, False, False],\n",
      "        [False, False, False, ..., False, False, False],\n",
      "        ...,\n",
      "        [False, False, False, ..., False, False, False],\n",
      "        [False, False, False, ..., False, False, False],\n",
      "        [False, False, False, ..., False, False, False]],\n",
      "\n",
      "       [[False, False, False, ..., False, False, False],\n",
      "        [False, False, False, ..., False, False, False],\n",
      "        [False, False, False, ..., False, False, False],\n",
      "        ...,\n",
      "        [False, False, False, ..., False, False, False],\n",
      "        [False, False, False, ..., False, False, False],\n",
      "        [False, False, False, ..., False, False, False]],\n",
      "\n",
      "       ...,\n",
      "\n",
      "       [[False, False, False, ..., False, False, False],\n",
      "        [False, False, False, ..., False, False, False],\n",
      "        [False, False, False, ..., False, False, False],\n",
      "        ...,\n",
      "        [False, False, False, ..., False, False, False],\n",
      "        [False, False, False, ..., False, False, False],\n",
      "        [False, False, False, ..., False, False, False]],\n",
      "\n",
      "       [[False, False, False, ..., False, False, False],\n",
      "        [False, False, False, ..., False, False, False],\n",
      "        [False, False, False, ..., False, False, False],\n",
      "        ...,\n",
      "        [False, False, False, ..., False, False, False],\n",
      "        [False, False, False, ..., False, False, False],\n",
      "        [False, False, False, ..., False, False, False]],\n",
      "\n",
      "       [[False, False, False, ..., False, False, False],\n",
      "        [False, False, False, ..., False, False, False],\n",
      "        [False, False, False, ..., False, False, False],\n",
      "        ...,\n",
      "        [False, False, False, ..., False, False, False],\n",
      "        [False, False, False, ..., False, False, False],\n",
      "        [False, False, False, ..., False, False, False]]]), 'V1v'), (array([[[False, False, False, ..., False, False, False],\n",
      "        [False, False, False, ..., False, False, False],\n",
      "        [False, False, False, ..., False, False, False],\n",
      "        ...,\n",
      "        [False, False, False, ..., False, False, False],\n",
      "        [False, False, False, ..., False, False, False],\n",
      "        [False, False, False, ..., False, False, False]],\n",
      "\n",
      "       [[False, False, False, ..., False, False, False],\n",
      "        [False, False, False, ..., False, False, False],\n",
      "        [False, False, False, ..., False, False, False],\n",
      "        ...,\n",
      "        [False, False, False, ..., False, False, False],\n",
      "        [False, False, False, ..., False, False, False],\n",
      "        [False, False, False, ..., False, False, False]],\n",
      "\n",
      "       [[False, False, False, ..., False, False, False],\n",
      "        [False, False, False, ..., False, False, False],\n",
      "        [False, False, False, ..., False, False, False],\n",
      "        ...,\n",
      "        [False, False, False, ..., False, False, False],\n",
      "        [False, False, False, ..., False, False, False],\n",
      "        [False, False, False, ..., False, False, False]],\n",
      "\n",
      "       ...,\n",
      "\n",
      "       [[False, False, False, ..., False, False, False],\n",
      "        [False, False, False, ..., False, False, False],\n",
      "        [False, False, False, ..., False, False, False],\n",
      "        ...,\n",
      "        [False, False, False, ..., False, False, False],\n",
      "        [False, False, False, ..., False, False, False],\n",
      "        [False, False, False, ..., False, False, False]],\n",
      "\n",
      "       [[False, False, False, ..., False, False, False],\n",
      "        [False, False, False, ..., False, False, False],\n",
      "        [False, False, False, ..., False, False, False],\n",
      "        ...,\n",
      "        [False, False, False, ..., False, False, False],\n",
      "        [False, False, False, ..., False, False, False],\n",
      "        [False, False, False, ..., False, False, False]],\n",
      "\n",
      "       [[False, False, False, ..., False, False, False],\n",
      "        [False, False, False, ..., False, False, False],\n",
      "        [False, False, False, ..., False, False, False],\n",
      "        ...,\n",
      "        [False, False, False, ..., False, False, False],\n",
      "        [False, False, False, ..., False, False, False],\n",
      "        [False, False, False, ..., False, False, False]]]), 'V2v'), (array([[[False, False, False, ..., False, False, False],\n",
      "        [False, False, False, ..., False, False, False],\n",
      "        [False, False, False, ..., False, False, False],\n",
      "        ...,\n",
      "        [False, False, False, ..., False, False, False],\n",
      "        [False, False, False, ..., False, False, False],\n",
      "        [False, False, False, ..., False, False, False]],\n",
      "\n",
      "       [[False, False, False, ..., False, False, False],\n",
      "        [False, False, False, ..., False, False, False],\n",
      "        [False, False, False, ..., False, False, False],\n",
      "        ...,\n",
      "        [False, False, False, ..., False, False, False],\n",
      "        [False, False, False, ..., False, False, False],\n",
      "        [False, False, False, ..., False, False, False]],\n",
      "\n",
      "       [[False, False, False, ..., False, False, False],\n",
      "        [False, False, False, ..., False, False, False],\n",
      "        [False, False, False, ..., False, False, False],\n",
      "        ...,\n",
      "        [False, False, False, ..., False, False, False],\n",
      "        [False, False, False, ..., False, False, False],\n",
      "        [False, False, False, ..., False, False, False]],\n",
      "\n",
      "       ...,\n",
      "\n",
      "       [[False, False, False, ..., False, False, False],\n",
      "        [False, False, False, ..., False, False, False],\n",
      "        [False, False, False, ..., False, False, False],\n",
      "        ...,\n",
      "        [False, False, False, ..., False, False, False],\n",
      "        [False, False, False, ..., False, False, False],\n",
      "        [False, False, False, ..., False, False, False]],\n",
      "\n",
      "       [[False, False, False, ..., False, False, False],\n",
      "        [False, False, False, ..., False, False, False],\n",
      "        [False, False, False, ..., False, False, False],\n",
      "        ...,\n",
      "        [False, False, False, ..., False, False, False],\n",
      "        [False, False, False, ..., False, False, False],\n",
      "        [False, False, False, ..., False, False, False]],\n",
      "\n",
      "       [[False, False, False, ..., False, False, False],\n",
      "        [False, False, False, ..., False, False, False],\n",
      "        [False, False, False, ..., False, False, False],\n",
      "        ...,\n",
      "        [False, False, False, ..., False, False, False],\n",
      "        [False, False, False, ..., False, False, False],\n",
      "        [False, False, False, ..., False, False, False]]]), 'V3v'), (array([[[False, False, False, ..., False, False, False],\n",
      "        [False, False, False, ..., False, False, False],\n",
      "        [False, False, False, ..., False, False, False],\n",
      "        ...,\n",
      "        [False, False, False, ..., False, False, False],\n",
      "        [False, False, False, ..., False, False, False],\n",
      "        [False, False, False, ..., False, False, False]],\n",
      "\n",
      "       [[False, False, False, ..., False, False, False],\n",
      "        [False, False, False, ..., False, False, False],\n",
      "        [False, False, False, ..., False, False, False],\n",
      "        ...,\n",
      "        [False, False, False, ..., False, False, False],\n",
      "        [False, False, False, ..., False, False, False],\n",
      "        [False, False, False, ..., False, False, False]],\n",
      "\n",
      "       [[False, False, False, ..., False, False, False],\n",
      "        [False, False, False, ..., False, False, False],\n",
      "        [False, False, False, ..., False, False, False],\n",
      "        ...,\n",
      "        [False, False, False, ..., False, False, False],\n",
      "        [False, False, False, ..., False, False, False],\n",
      "        [False, False, False, ..., False, False, False]],\n",
      "\n",
      "       ...,\n",
      "\n",
      "       [[False, False, False, ..., False, False, False],\n",
      "        [False, False, False, ..., False, False, False],\n",
      "        [False, False, False, ..., False, False, False],\n",
      "        ...,\n",
      "        [False, False, False, ..., False, False, False],\n",
      "        [False, False, False, ..., False, False, False],\n",
      "        [False, False, False, ..., False, False, False]],\n",
      "\n",
      "       [[False, False, False, ..., False, False, False],\n",
      "        [False, False, False, ..., False, False, False],\n",
      "        [False, False, False, ..., False, False, False],\n",
      "        ...,\n",
      "        [False, False, False, ..., False, False, False],\n",
      "        [False, False, False, ..., False, False, False],\n",
      "        [False, False, False, ..., False, False, False]],\n",
      "\n",
      "       [[False, False, False, ..., False, False, False],\n",
      "        [False, False, False, ..., False, False, False],\n",
      "        [False, False, False, ..., False, False, False],\n",
      "        ...,\n",
      "        [False, False, False, ..., False, False, False],\n",
      "        [False, False, False, ..., False, False, False],\n",
      "        [False, False, False, ..., False, False, False]]]), 'v4')]\n"
     ]
    }
   ],
   "source": [
    "v1=[[3],]\n",
    "mask=list(iterate_roi(ventral, voxel_roi_full, roi_map, group_name=None))\n",
    "print(mask)\n",
    "mask=[ x[0] for x in mask]\n",
    "arr = np.array(mask)\n",
    "general_mask_full = (arr>0).flatten().astype(bool)\n",
    "\n",
    "voxel_mask = general_mask_full\n",
    "voxel_idx = np.arange(len(general_mask_full))[voxel_mask]\n",
    "voxel_roi = arr.flatten()[voxel_mask]"
   ]
  },
  {
   "cell_type": "code",
   "execution_count": 115,
   "metadata": {},
   "outputs": [
    {
     "name": "stdout",
     "output_type": "stream",
     "text": [
      "[ True  True  True  True  True  True  True  True  True  True  True  True\n",
      "  True  True  True  True  True  True  True  True  True  True  True  True\n",
      "  True  True  True  True  True  True  True  True  True  True  True  True\n",
      "  True  True  True  True  True  True  True  True  True  True  True  True\n",
      "  True  True  True  True  True  True  True  True  True  True  True  True\n",
      "  True  True  True  True  True  True  True  True  True  True  True  True\n",
      "  True  True  True  True  True  True  True  True  True  True  True  True\n",
      "  True  True  True  True  True  True  True  True  True  True  True  True\n",
      "  True  True  True  True  True  True  True  True  True  True  True  True\n",
      "  True  True  True  True  True  True  True  True  True  True  True  True\n",
      "  True  True  True  True  True  True  True  True  True  True  True  True\n",
      "  True  True  True  True  True  True  True  True  True  True  True  True\n",
      "  True  True  True  True  True  True  True  True  True  True  True  True\n",
      "  True  True  True  True  True  True  True  True  True  True  True  True\n",
      "  True  True  True  True  True  True  True  True  True  True  True  True\n",
      "  True  True  True  True  True  True  True  True  True  True  True  True\n",
      "  True  True  True  True  True  True  True  True  True  True  True  True\n",
      "  True  True  True  True  True  True  True  True  True  True  True  True\n",
      "  True  True  True  True  True  True  True  True  True  True  True  True\n",
      "  True  True  True  True  True  True  True  True  True  True  True  True\n",
      "  True  True  True  True  True  True  True  True  True  True  True  True\n",
      "  True  True  True  True  True  True  True  True  True  True  True  True\n",
      "  True  True  True  True  True  True  True  True  True  True  True  True\n",
      "  True  True  True  True  True  True  True  True  True  True  True  True\n",
      "  True  True  True  True  True  True  True  True  True  True  True  True\n",
      "  True  True  True  True  True  True  True  True  True  True  True  True\n",
      "  True  True  True  True  True  True  True  True  True  True  True  True\n",
      "  True  True  True  True  True  True  True  True  True  True  True  True\n",
      "  True  True  True  True  True  True  True  True  True  True  True  True\n",
      "  True  True  True  True  True  True  True  True  True  True  True  True\n",
      "  True  True  True  True  True  True  True  True  True  True  True  True\n",
      "  True  True  True  True  True  True  True  True  True  True  True  True\n",
      "  True  True  True  True  True  True  True  True  True  True  True  True\n",
      "  True  True  True  True  True  True  True  True  True  True  True  True\n",
      "  True  True  True  True  True  True  True  True  True  True  True  True\n",
      "  True  True  True  True  True  True  True  True  True  True  True  True\n",
      "  True  True  True  True  True  True  True  True  True  True  True  True\n",
      "  True  True  True  True  True  True  True  True  True  True  True  True\n",
      "  True  True  True  True  True  True  True  True  True  True  True  True\n",
      "  True  True  True  True  True  True  True  True  True  True  True  True\n",
      "  True  True  True  True  True  True  True  True  True  True  True  True\n",
      "  True  True  True  True  True  True  True  True  True  True  True  True\n",
      "  True  True  True  True  True  True  True  True  True  True  True  True\n",
      "  True  True  True  True  True  True  True  True  True  True  True  True\n",
      "  True  True  True  True  True  True  True  True  True  True  True  True\n",
      "  True  True  True  True  True  True  True  True  True  True  True  True\n",
      "  True  True  True  True  True  True  True  True  True  True  True  True\n",
      "  True  True  True  True  True  True  True  True  True  True  True  True\n",
      "  True  True  True  True  True  True  True  True  True  True  True  True\n",
      "  True  True  True  True  True  True  True  True  True  True  True  True\n",
      "  True  True  True  True  True  True  True  True  True  True  True  True\n",
      "  True  True  True  True  True  True  True  True  True  True  True  True\n",
      "  True  True  True  True  True  True  True  True  True  True  True  True\n",
      "  True  True  True  True  True  True  True  True  True  True  True  True\n",
      "  True  True  True  True  True  True  True  True  True  True  True  True\n",
      "  True  True  True  True  True  True  True  True  True  True  True  True\n",
      "  True  True  True  True  True  True  True  True  True  True  True  True\n",
      "  True  True  True  True  True  True  True  True  True  True  True  True\n",
      "  True  True  True  True  True  True  True  True  True  True  True  True\n",
      "  True  True  True  True  True  True  True  True  True  True  True  True\n",
      "  True  True  True  True  True  True  True  True  True  True  True  True\n",
      "  True  True  True  True  True  True  True  True  True  True  True  True\n",
      "  True  True  True  True  True  True  True  True  True  True  True  True\n",
      "  True  True  True  True  True  True  True  True  True  True  True  True\n",
      "  True  True  True  True  True  True  True  True  True  True  True  True\n",
      "  True  True  True  True  True  True  True  True  True  True  True  True\n",
      "  True  True  True  True  True  True  True  True  True  True  True  True\n",
      "  True  True  True  True  True  True  True  True  True  True  True  True\n",
      "  True  True  True  True  True  True  True  True  True  True  True  True\n",
      "  True  True  True  True  True  True]\n"
     ]
    }
   ],
   "source": [
    "print(voxel_roi)"
   ]
  },
  {
   "cell_type": "markdown",
   "metadata": {},
   "source": [
    "## Example"
   ]
  },
  {
   "cell_type": "code",
   "execution_count": 118,
   "metadata": {},
   "outputs": [
    {
     "ename": "IndexError",
     "evalue": "index 941423 is out of bounds for axis 0 with size 699192",
     "output_type": "error",
     "traceback": [
      "\u001b[0;31m---------------------------------------------------------------------------\u001b[0m",
      "\u001b[0;31mIndexError\u001b[0m                                Traceback (most recent call last)",
      "Cell \u001b[0;32mIn[118], line 4\u001b[0m\n\u001b[1;32m      1\u001b[0m slice_idx \u001b[38;5;241m=\u001b[39m \u001b[38;5;241m50\u001b[39m\n\u001b[1;32m      2\u001b[0m plt\u001b[38;5;241m.\u001b[39mfigure(figsize\u001b[38;5;241m=\u001b[39m(\u001b[38;5;241m12\u001b[39m, \u001b[38;5;241m4\u001b[39m))\n\u001b[0;32m----> 4\u001b[0m volume_brain_mask \u001b[38;5;241m=\u001b[39m \u001b[43mview_data\u001b[49m\u001b[43m(\u001b[49m\u001b[43mbrain_nii_shape\u001b[49m\u001b[43m,\u001b[49m\u001b[43m \u001b[49m\u001b[43mvoxel_idx\u001b[49m\u001b[43m,\u001b[49m\u001b[43m \u001b[49m\u001b[43mnp\u001b[49m\u001b[38;5;241;43m.\u001b[39;49m\u001b[43mones_like\u001b[49m\u001b[43m(\u001b[49m\u001b[43mvoxel_idx\u001b[49m\u001b[43m)\u001b[49m\u001b[43m,\u001b[49m\u001b[43m \u001b[49m\u001b[43msave_to\u001b[49m\u001b[38;5;241;43m=\u001b[39;49m\u001b[38;5;28;43;01mNone\u001b[39;49;00m\u001b[43m)\u001b[49m\n\u001b[1;32m      5\u001b[0m volume_brain_roi  \u001b[38;5;241m=\u001b[39m view_data(brain_nii_shape, voxel_idx, voxel_roi, save_to\u001b[38;5;241m=\u001b[39m\u001b[38;5;28;01mNone\u001b[39;00m)\n\u001b[1;32m      6\u001b[0m \u001b[38;5;66;03m##\u001b[39;00m\n",
      "File \u001b[0;32m~/Downloads/nsd/src/file_utility.py:124\u001b[0m, in \u001b[0;36mview_data\u001b[0;34m(vol_shape, idx_mask, data_vol, order, save_to)\u001b[0m\n\u001b[1;32m    122\u001b[0m \u001b[38;5;28;01mdef\u001b[39;00m \u001b[38;5;21mview_data\u001b[39m(vol_shape, idx_mask, data_vol, order\u001b[38;5;241m=\u001b[39m\u001b[38;5;124m'\u001b[39m\u001b[38;5;124mC\u001b[39m\u001b[38;5;124m'\u001b[39m, save_to\u001b[38;5;241m=\u001b[39m\u001b[38;5;28;01mNone\u001b[39;00m):\n\u001b[1;32m    123\u001b[0m     view_vol \u001b[38;5;241m=\u001b[39m np\u001b[38;5;241m.\u001b[39mones(np\u001b[38;5;241m.\u001b[39mprod(vol_shape), dtype\u001b[38;5;241m=\u001b[39mnp\u001b[38;5;241m.\u001b[39mfloat32) \u001b[38;5;241m*\u001b[39m np\u001b[38;5;241m.\u001b[39mnan\n\u001b[0;32m--> 124\u001b[0m     \u001b[43mview_vol\u001b[49m\u001b[43m[\u001b[49m\u001b[43midx_mask\u001b[49m\u001b[38;5;241;43m.\u001b[39;49m\u001b[43mastype\u001b[49m\u001b[43m(\u001b[49m\u001b[38;5;124;43m'\u001b[39;49m\u001b[38;5;124;43mint\u001b[39;49m\u001b[38;5;124;43m'\u001b[39;49m\u001b[43m)\u001b[49m\u001b[38;5;241;43m.\u001b[39;49m\u001b[43mflatten\u001b[49m\u001b[43m(\u001b[49m\u001b[43m)\u001b[49m\u001b[43m]\u001b[49m \u001b[38;5;241m=\u001b[39m data_vol\n\u001b[1;32m    125\u001b[0m     view_vol \u001b[38;5;241m=\u001b[39m view_vol\u001b[38;5;241m.\u001b[39mreshape(vol_shape, order\u001b[38;5;241m=\u001b[39morder)\n\u001b[1;32m    126\u001b[0m     \u001b[38;5;28;01mif\u001b[39;00m save_to:\n",
      "\u001b[0;31mIndexError\u001b[0m: index 941423 is out of bounds for axis 0 with size 699192"
     ]
    },
    {
     "data": {
      "text/plain": [
       "<Figure size 1200x400 with 0 Axes>"
      ]
     },
     "metadata": {},
     "output_type": "display_data"
    }
   ],
   "source": [
    "slice_idx = 50\n",
    "plt.figure(figsize=(12, 4))\n",
    "    \n",
    "volume_brain_mask = view_data(brain_nii_shape, voxel_idx, np.ones_like(voxel_idx), save_to=None)\n",
    "volume_brain_roi  = view_data(brain_nii_shape, voxel_idx, voxel_roi, save_to=None)\n",
    "##\n",
    "plt.subplot(1,3,1)\n",
    "plt.imshow(volume_brain_mask[:,:,slice_idx], cmap='gray', interpolation='None')\n",
    "plt.title('Mask')\n",
    "plt.colorbar()\n",
    "_=plt.ylabel('Subject %d'%s)\n",
    "_=plt.gca().set_xticklabels([])\n",
    "_=plt.gca().set_yticklabels([])\n",
    "plt.subplot(1,3,2)\n",
    "plt.imshow(volume_brain_roi[:,:,slice_idx], cmap='jet', interpolation='None')\n",
    "plt.clim([0,7])\n",
    "plt.title('ROI')\n",
    "plt.colorbar()\n",
    "_=plt.gca().set_xticklabels([])\n",
    "_=plt.gca().set_yticklabels([])"
   ]
  },
  {
   "cell_type": "markdown",
   "metadata": {},
   "source": [
    "# Make visual cortex masks"
   ]
  },
  {
   "cell_type": "code",
   "execution_count": 13,
   "metadata": {},
   "outputs": [
    {
     "name": "stdout",
     "output_type": "stream",
     "text": [
      "--------  subject 1  -------\n",
      "(81, 104, 83)\n",
      "(kastner selection length = 11067)\n",
      "mask selection length = 11930\n",
      "mask total length = 699192\n"
     ]
    }
   ],
   "source": [
    "roi_map = {1: 'V1v', 2: 'V1d', 3: 'V2v', 4: 'V2d', 5: 'V3v', 6: 'V3d', 7: 'hV4', 8: 'VO1', 9: 'VO2', \\\n",
    "           10: 'PHC1', 11: 'PHC2', 12: 'MST', 13: 'hMT', 14: 'LO2', 15: 'LO1', 16: 'V3b', 17: 'V3a', \\\n",
    "           18: 'IPS0', 19: 'IPS1', 20: 'IPS2', 21: 'IPS3', 22: 'IPS4', 23: 'IPS5', 24: 'SPL1', 25: 'FEF',\\\n",
    "           0: 'other'}\n",
    "\n",
    "for k,s in enumerate(subjects):\n",
    "    print ('--------  subject %d  -------' % s)\n",
    "    voxel_roi_full = load_mask_from_nii(mask_root + \"subj%02d/func1pt8mm/roi/prf-visualrois.nii.gz\"%s)\n",
    "    voxel_kast_full     = load_mask_from_nii(mask_root + \"subj%02d/func1pt8mm/roi/Kastner2015.nii.gz\"%(s))\n",
    "    general_mask_full  = load_mask_from_nii(mask_root + \"subj%02d/func1pt8mm/roi/nsdgeneral.nii.gz\"%(s))\n",
    "    ###\n",
    "    \n",
    "    brain_nii_shape = voxel_roi_full.shape\n",
    "    print (brain_nii_shape)\n",
    "\n",
    "    ###\n",
    "    voxel_mask_full = (voxel_roi_full>0).flatten().astype(bool)\n",
    "    voxel_joined_roi_full = np.copy(voxel_kast_full.flatten())  # take the kastner rois\n",
    "    voxel_joined_roi_full[voxel_mask_full] = voxel_roi_full.flatten()[voxel_mask_full] # overwrite the prf visual rois\n",
    "    voxel_joined_mask_full = (voxel_joined_roi_full>0).flatten().astype(bool)\n",
    "    ###\n",
    "    \n",
    "    voxel_mask = voxel_joined_mask_full\n",
    "    voxel_idx = np.arange(len(voxel_joined_mask_full))[voxel_mask]\n",
    "    voxel_roi = voxel_joined_roi_full[voxel_mask]\n",
    "        \n",
    "    print ('(kastner selection length = %d)'%np.sum(voxel_kast_full>0))\n",
    "    print ('mask selection length = %d'%np.sum(voxel_mask))\n",
    "    print ('mask total length = %d'%len(voxel_mask))\n",
    "    _ = view_data(brain_nii_shape, voxel_idx,  np.ones_like(voxel_idx), save_to=mask_root \\\n",
    "                  + \"subj%02d/func1pt8mm/brainmask_nsdgeneral_1.0.nii\"%s)"
   ]
  },
  {
   "cell_type": "markdown",
   "metadata": {},
   "source": [
    "## Example"
   ]
  },
  {
   "cell_type": "code",
   "execution_count": 14,
   "metadata": {},
   "outputs": [
    {
     "data": {
      "image/png": "[encoded data removed]",
      "text/plain": [
       "<Figure size 1200x400 with 4 Axes>"
      ]
     },
     "metadata": {},
     "output_type": "display_data"
    }
   ],
   "source": [
    "slice_idx = 25\n",
    "plt.figure(figsize=(12, 4))\n",
    "    \n",
    "volume_brain_mask = view_data(brain_nii_shape, voxel_idx, np.ones_like(voxel_idx), save_to=None)\n",
    "volume_brain_roi  = view_data(brain_nii_shape, voxel_idx, voxel_roi, save_to=None)\n",
    "##\n",
    "plt.subplot(1,3,1)\n",
    "plt.imshow(volume_brain_mask[:,:,slice_idx], cmap='gray', interpolation='None')\n",
    "plt.title('Mask')\n",
    "plt.colorbar()\n",
    "_=plt.ylabel('Subject %d'%s)\n",
    "_=plt.gca().set_xticklabels([])\n",
    "_=plt.gca().set_yticklabels([])\n",
    "plt.subplot(1,3,2)\n",
    "plt.imshow(volume_brain_roi[:,:,slice_idx], cmap='jet', interpolation='None')\n",
    "plt.clim([0,7])\n",
    "plt.title('ROI')\n",
    "plt.colorbar()\n",
    "_=plt.gca().set_xticklabels([])\n",
    "_=plt.gca().set_yticklabels([])"
   ]
  },
  {
   "cell_type": "markdown",
   "metadata": {},
   "source": [
    "# Make whole brain masks\n",
    "## We need mask that are as tight as possible on the brain. The provided brainmasks are too loose and result in a prohibitive compute cost (almost half of the voxels can be entirely avoided)"
   ]
  },
  {
   "cell_type": "code",
   "execution_count": 16,
   "metadata": {},
   "outputs": [],
   "source": [
    "subject = 1\n",
    "brain_r2_full     = load_mask_from_nii(beta_root + \"subj%02d/func1pt8mm/betas_fithrf_GLMdenoise_RR/R2.nii.gz\"%(subject,))\n",
    "brain_mask_full   = load_mask_from_nii(mask_root + \"subj%02d/func1pt8mm/brainmask.nii.gz\"%(subject))\n",
    "brain_anat_full   = load_mask_from_nii(mask_root + \"subj%02d/func1pt8mm/T1_to_func1pt8mm.nii.gz\"%(subject))\n",
    "brain_seg_full    = load_mask_from_nii(mask_root + \"subj%02d/func1pt8mm/aseg.nii.gz\"%(subject))\n",
    "brain_roi_full    = load_mask_from_nii(mask_root + \"subj%02d/func1pt8mm/roi/Kastner2015.nii.gz\"%(subject))\n",
    "general_mask_full = load_mask_from_nii(mask_root + \"subj%02d/func1pt8mm/roi/nsdgeneral.nii.gz\"%(subject))\n",
    "\n",
    "brain_nii_shape = brain_mask_full.shape\n",
    "brain_mask_full   = brain_mask_full.flatten().astype(bool)\n",
    "general_mask_full = (general_mask_full==1).flatten().astype(bool)\n",
    "\n",
    "voxel_seg_full = (brain_seg_full!=0).flatten()\n",
    "voxel_idx_full = np.arange(len(brain_mask_full))\n",
    "voxel_gen_full = (general_mask_full==1).flatten().astype(bool)\n",
    "voxel_roi_full = brain_roi_full.flatten()\n",
    "\n",
    "_ = view_data(brain_nii_shape, voxel_idx_full, brain_roi_full.flatten(), save_to=output_dir + \"S%02d/roi_redo.nii\"%(subject))\n",
    "_ = view_data(brain_nii_shape, voxel_idx_full, brain_seg_full.flatten(), save_to=output_dir + \"S%02d/aseg_redo.nii\"%(subject))\n",
    "_ = view_data(brain_nii_shape, voxel_idx_full, brain_anat_full.flatten(), save_to=output_dir + \"S%02d/anat_redo.nii\"%(subject))\n",
    "\n",
    "voxel_seg_brain = voxel_seg_full[brain_mask_full]\n",
    "voxel_idx_brain = voxel_idx_full[brain_mask_full]\n",
    "voxel_roi_brain = voxel_roi_full[brain_mask_full]\n",
    "voxel_gen_brain = voxel_gen_full[brain_mask_full]\n",
    "\n",
    "voxel_seg_general = voxel_seg_full[general_mask_full]\n",
    "voxel_idx_general = voxel_idx_full[general_mask_full]\n",
    "voxel_roi_general = voxel_roi_full[general_mask_full]"
   ]
  },
  {
   "cell_type": "code",
   "execution_count": 17,
   "metadata": {},
   "outputs": [
    {
     "data": {
      "image/png": "[encoded data removed]",
      "text/plain": [
       "<Figure size 1800x800 with 12 Axes>"
      ]
     },
     "metadata": {},
     "output_type": "display_data"
    }
   ],
   "source": [
    "volume_brain_mask = view_data(brain_nii_shape, voxel_idx_full, brain_mask_full)\n",
    "volume_brain_seg  = view_data(brain_nii_shape, voxel_idx_brain, voxel_seg_brain)\n",
    "volume_brain_roi  = view_data(brain_nii_shape, voxel_idx_brain, voxel_roi_brain)\n",
    "\n",
    "volume_general_mask = view_data(brain_nii_shape, voxel_idx_full, general_mask_full)\n",
    "volume_general_seg  = view_data(brain_nii_shape, voxel_idx_general, voxel_seg_general)\n",
    "volume_general_roi  = view_data(brain_nii_shape, voxel_idx_general, voxel_roi_general)\n",
    "\n",
    "slice_idx = 40\n",
    "fig = plt.figure(figsize=(18,8))\n",
    "plt.subplot(2,3,1)\n",
    "plt.imshow(volume_brain_mask[:,:,slice_idx], cmap='gray', interpolation='None')\n",
    "plt.title('Mask')\n",
    "plt.colorbar()\n",
    "_=plt.gca().set_xticklabels([])\n",
    "_=plt.gca().set_yticklabels([])\n",
    "plt.ylabel('brainmask')\n",
    "plt.subplot(2,3,2)\n",
    "plt.imshow(volume_brain_seg[:,:,slice_idx], cmap='gray', interpolation='None')\n",
    "plt.title('SEG')\n",
    "plt.colorbar()\n",
    "_=plt.gca().set_xticklabels([])\n",
    "_=plt.gca().set_yticklabels([])\n",
    "plt.subplot(2,3,3)\n",
    "plt.imshow(volume_brain_roi[:,:,slice_idx], cmap='jet', interpolation='None')\n",
    "plt.title('ROI')\n",
    "plt.colorbar()\n",
    "_=plt.gca().set_xticklabels([])\n",
    "_=plt.gca().set_yticklabels([])\n",
    "plt.subplot(2,3,4)\n",
    "plt.imshow(volume_general_mask[:,:,slice_idx], cmap='gray', interpolation='None')\n",
    "plt.title('Mask')\n",
    "plt.colorbar()\n",
    "_=plt.gca().set_xticklabels([])\n",
    "_=plt.gca().set_yticklabels([])\n",
    "plt.ylabel('nsdgeneral')\n",
    "plt.subplot(2,3,5)\n",
    "plt.imshow(volume_general_seg[:,:,slice_idx], cmap='gray', interpolation='None')\n",
    "plt.title('SEG')\n",
    "plt.colorbar()\n",
    "_=plt.gca().set_xticklabels([])\n",
    "_=plt.gca().set_yticklabels([])\n",
    "plt.subplot(2,3,6)\n",
    "plt.imshow(volume_general_roi[:,:,slice_idx], cmap='jet', interpolation='None')\n",
    "plt.title('ROI')\n",
    "plt.colorbar()\n",
    "_=plt.gca().set_xticklabels([])\n",
    "_=plt.gca().set_yticklabels([])"
   ]
  },
  {
   "cell_type": "code",
   "execution_count": 18,
   "metadata": {},
   "outputs": [],
   "source": [
    "tight_mask = np.logical_or(np.logical_or(voxel_seg_full, voxel_gen_full), voxel_roi_full>=0)\n",
    "\n",
    "voxel_idx_tight = voxel_idx_full[tight_mask]\n",
    "voxel_roi_tight = voxel_roi_full[tight_mask]"
   ]
  },
  {
   "cell_type": "code",
   "execution_count": 19,
   "metadata": {},
   "outputs": [
    {
     "data": {
      "image/png": "[encoded data removed]",
      "text/plain": [
       "<Figure size 2000x800 with 4 Axes>"
      ]
     },
     "metadata": {},
     "output_type": "display_data"
    }
   ],
   "source": [
    "volume_tight_mask = view_data(brain_nii_shape, voxel_idx_full, tight_mask)\n",
    "volume_tight_roi  = view_data(brain_nii_shape, voxel_idx_tight, voxel_roi_tight)\n",
    "\n",
    "slice_idx = 40\n",
    "fig = plt.figure(figsize=(20,8))\n",
    "plt.subplot(1,2,1)\n",
    "plt.imshow(volume_tight_mask[:,:,slice_idx], cmap='gray', interpolation='None')\n",
    "plt.title('Mask')\n",
    "plt.colorbar()\n",
    "_=plt.gca().set_xticklabels([])\n",
    "_=plt.gca().set_yticklabels([])\n",
    "plt.ylabel('brainmask')\n",
    "plt.subplot(1,2,2)\n",
    "plt.imshow(volume_tight_roi[:,:,slice_idx], cmap='jet', interpolation='None')\n",
    "plt.title('ROI')\n",
    "plt.colorbar()\n",
    "_=plt.gca().set_xticklabels([])\n",
    "_=plt.gca().set_yticklabels([])"
   ]
  },
  {
   "cell_type": "code",
   "execution_count": 20,
   "metadata": {},
   "outputs": [
    {
     "name": "stdout",
     "output_type": "stream",
     "text": [
      "tight masks voxel coverage = 206329\n",
      "original mask voxel coverage = 370503\n"
     ]
    }
   ],
   "source": [
    "print ('tight masks voxel coverage = %d'%np.sum(tight_mask))\n",
    "print ('original mask voxel coverage = %d'%np.sum(brain_mask_full))"
   ]
  },
  {
   "cell_type": "markdown",
   "metadata": {},
   "source": [
    "## Let's inflate the tight mask just a tiny bit to fill the ugly holes"
   ]
  },
  {
   "cell_type": "code",
   "execution_count": 21,
   "metadata": {},
   "outputs": [],
   "source": [
    "def inflate1d(x):\n",
    "    y = x.astype(np.float32)\n",
    "    return 1.*y + 0.5*np.roll(y,-1,axis=0) + 0.5*np.roll(y,1,axis=0)\n",
    "\n",
    "def inflate2d(x):\n",
    "    y = inflate1d(x)\n",
    "    return 1.*y + 0.5*np.roll(y,-1,axis=1) + 0.5*np.roll(y,1,axis=1)\n",
    "\n",
    "def inflate3d(x):\n",
    "    y = inflate2d(x)\n",
    "    return 1.*y + 0.5*np.roll(y,-1,axis=2) + 0.5*np.roll(y,1,axis=2)"
   ]
  },
  {
   "cell_type": "code",
   "execution_count": 22,
   "metadata": {},
   "outputs": [],
   "source": [
    "volume_inflated_mask = inflate3d(volume_tight_mask)>=1."
   ]
  },
  {
   "cell_type": "code",
   "execution_count": 23,
   "metadata": {},
   "outputs": [
    {
     "data": {
      "image/png": "[encoded data removed]",
      "text/plain": [
       "<Figure size 2000x800 with 1 Axes>"
      ]
     },
     "metadata": {},
     "output_type": "display_data"
    }
   ],
   "source": [
    "slice_idx = 40\n",
    "fig = plt.figure(figsize=(20,8))\n",
    "plt.subplot(1,2,1)\n",
    "plt.imshow(volume_inflated_mask[:,:,slice_idx], cmap='gray', interpolation='None')\n",
    "plt.title('Mask')\n",
    "_=plt.gca().set_xticklabels([])\n",
    "_=plt.gca().set_yticklabels([])"
   ]
  },
  {
   "cell_type": "code",
   "execution_count": 24,
   "metadata": {},
   "outputs": [
    {
     "name": "stdout",
     "output_type": "stream",
     "text": [
      "tight masks voxel coverage = 206329\n",
      "inflated tight masks voxel coverage = 238292\n",
      "original mask voxel coverage = 370503\n"
     ]
    }
   ],
   "source": [
    "print ('tight masks voxel coverage = %d'%np.sum(tight_mask))\n",
    "print ('inflated tight masks voxel coverage = %d'%np.sum(volume_inflated_mask))\n",
    "print ('original mask voxel coverage = %d'%np.sum(brain_mask_full))"
   ]
  },
  {
   "cell_type": "code",
   "execution_count": 25,
   "metadata": {},
   "outputs": [],
   "source": [
    "inflated_mask = volume_inflated_mask.flatten()\n",
    "\n",
    "voxel_idx_inflated = voxel_idx_full[inflated_mask]\n",
    "voxel_roi_inflated = voxel_roi_full[inflated_mask]"
   ]
  },
  {
   "cell_type": "code",
   "execution_count": 26,
   "metadata": {},
   "outputs": [
    {
     "data": {
      "image/png": "[encoded data removed]",
      "text/plain": [
       "<Figure size 2000x600 with 4 Axes>"
      ]
     },
     "metadata": {},
     "output_type": "display_data"
    }
   ],
   "source": [
    "volume_inflated_mask = view_data(brain_nii_shape, voxel_idx_full, inflated_mask)\n",
    "volume_inflated_roi  = view_data(brain_nii_shape, voxel_idx_inflated, voxel_roi_inflated)\n",
    "\n",
    "slice_idx = 40\n",
    "fig = plt.figure(figsize=(20,6))\n",
    "plt.subplot(1,3,1)\n",
    "plt.imshow(volume_inflated_mask[:,:,slice_idx], cmap='gray', interpolation='None')\n",
    "plt.title('Mask')\n",
    "plt.colorbar()\n",
    "_=plt.gca().set_xticklabels([])\n",
    "_=plt.gca().set_yticklabels([])\n",
    "plt.ylabel('brainmask')\n",
    "plt.subplot(1,3,2)\n",
    "plt.imshow(volume_inflated_roi[:,:,slice_idx], cmap='jet', interpolation='None')\n",
    "plt.title('ROI')\n",
    "plt.colorbar()\n",
    "_=plt.gca().set_xticklabels([])\n",
    "_=plt.gca().set_yticklabels([])"
   ]
  },
  {
   "cell_type": "markdown",
   "metadata": {},
   "source": [
    "# Create slightly inflated mask for all subjects"
   ]
  },
  {
   "cell_type": "code",
   "execution_count": 27,
   "metadata": {},
   "outputs": [
    {
     "name": "stdout",
     "output_type": "stream",
     "text": [
      "subject = 1\n",
      "   tight  \t<  inflated  \t<  original\n",
      "   206329  \t<  238292  \t<  370503\n"
     ]
    }
   ],
   "source": [
    "for s in subjects:\n",
    "    print ('subject = %d' % s)\n",
    "    brain_mask_full   = load_mask_from_nii(mask_root + \"subj%02d/func1pt8mm/brainmask.nii.gz\"%s)\n",
    "    brain_seg_full    = load_mask_from_nii(mask_root + \"subj%02d/func1pt8mm/aseg.nii.gz\"%s)\n",
    "    brain_roi_full    = load_mask_from_nii(mask_root + \"subj%02d/func1pt8mm/roi/Kastner2015.nii.gz\"%s)\n",
    "    general_mask_full = load_mask_from_nii(mask_root + \"subj%02d/func1pt8mm/roi/nsdgeneral.nii.gz\"%s)\n",
    "    \n",
    "    brain_nii_shape = brain_mask_full.shape\n",
    "    brain_mask_full   = brain_mask_full.flatten().astype(bool)\n",
    "    general_mask_full = (general_mask_full==1).flatten().astype(bool)\n",
    "\n",
    "    voxel_seg_full = (brain_seg_full!=0).flatten()\n",
    "    voxel_idx_full = np.arange(len(brain_mask_full))\n",
    "    voxel_gen_full = (general_mask_full==1).flatten().astype(bool)\n",
    "    voxel_roi_full = brain_roi_full.flatten()\n",
    "    ###\n",
    "    tight_mask = np.logical_or(np.logical_or(voxel_seg_full, voxel_gen_full), voxel_roi_full>=0)\n",
    "    volume_tight_mask = view_data(brain_nii_shape, voxel_idx_full, tight_mask)\n",
    "    volume_inflated_mask = inflate3d(volume_tight_mask)>=1.\n",
    "    inflated_mask = volume_inflated_mask.flatten()\n",
    "    ###\n",
    "    print (\"   tight  \\t<  inflated  \\t<  original\")\n",
    "    print (\"   %d  \\t<  %d  \\t<  %d\"%(np.sum(tight_mask), np.sum(volume_inflated_mask.flatten()), np.sum(brain_mask_full.flatten())))\n",
    "    _ = view_data(brain_nii_shape, voxel_idx_full, inflated_mask, save_to=mask_root + \"subj%02d/func1pt8mm/brainmask_inflated_1.0.nii\"%s)"
   ]
  },
  {
   "cell_type": "code",
   "execution_count": null,
   "metadata": {},
   "outputs": [],
   "source": []
  }
 ],
 "metadata": {
  "kernelspec": {
   "display_name": "Python 3",
   "language": "python",
   "name": "python3"
  },
  "language_info": {
   "codemirror_mode": {
    "name": "ipython",
    "version": 3
   },
   "file_extension": ".py",
   "mimetype": "text/x-python",
   "name": "python",
   "nbconvert_exporter": "python",
   "pygments_lexer": "ipython3",
   "version": "3.12.3"
  }
 },
 "nbformat": 4,
 "nbformat_minor": 2
}
